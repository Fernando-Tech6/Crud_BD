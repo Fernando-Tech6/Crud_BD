{
 "cells": [
  {
   "cell_type": "code",
   "execution_count": 1,
   "metadata": {},
   "outputs": [],
   "source": [
    "# Ingestão de dados em banco de dados sqlite3 com pandas dataframe"
   ]
  },
  {
   "cell_type": "code",
   "execution_count": 7,
   "metadata": {},
   "outputs": [],
   "source": [
    "import pandas as pd"
   ]
  },
  {
   "cell_type": "code",
   "execution_count": 2,
   "metadata": {},
   "outputs": [],
   "source": [
    "\n",
    "dados = {'emp_name': [\n",
    "    'Beverly Lang', 'Kameko French', 'Ursa George', 'Ferris Brown', 'Noel Meyer', 'Abel Kim', 'Raphael Hull', 'Jack Salazar', 'May Stout', 'Haviva Montoya'],\n",
    "    'emp_mgr': [\n",
    "    'Mike Palomino', 'Mike Palomino', 'Rich Hernandez', 'Dan Brodi', 'Kari Phelps', 'Rich Hernandez', 'Kari Phelps', 'Kari Phelps', 'Rich Hernandez', 'Mike Palomino'],\n",
    "    'dealer_id': [2, 2, 3, 1, 1, 3, 1, 1, 3, 2],\n",
    "    'sales': [\n",
    "    16233, 16233, 15427, 19745, 19745, 12369, 8227, 9710, 9308, 9308]}"
   ]
  },
  {
   "cell_type": "code",
   "execution_count": 13,
   "metadata": {},
   "outputs": [
    {
     "data": {
      "text/html": [
       "<div>\n",
       "<style scoped>\n",
       "    .dataframe tbody tr th:only-of-type {\n",
       "        vertical-align: middle;\n",
       "    }\n",
       "\n",
       "    .dataframe tbody tr th {\n",
       "        vertical-align: top;\n",
       "    }\n",
       "\n",
       "    .dataframe thead th {\n",
       "        text-align: right;\n",
       "    }\n",
       "</style>\n",
       "<table border=\"1\" class=\"dataframe\">\n",
       "  <thead>\n",
       "    <tr style=\"text-align: right;\">\n",
       "      <th></th>\n",
       "      <th>emp_name</th>\n",
       "      <th>emp_mgr</th>\n",
       "      <th>dealer_id</th>\n",
       "      <th>sales</th>\n",
       "    </tr>\n",
       "  </thead>\n",
       "  <tbody>\n",
       "    <tr>\n",
       "      <th>0</th>\n",
       "      <td>Beverly Lang</td>\n",
       "      <td>Mike Palomino</td>\n",
       "      <td>2</td>\n",
       "      <td>16233</td>\n",
       "    </tr>\n",
       "    <tr>\n",
       "      <th>1</th>\n",
       "      <td>Kameko French</td>\n",
       "      <td>Mike Palomino</td>\n",
       "      <td>2</td>\n",
       "      <td>16233</td>\n",
       "    </tr>\n",
       "    <tr>\n",
       "      <th>2</th>\n",
       "      <td>Ursa George</td>\n",
       "      <td>Rich Hernandez</td>\n",
       "      <td>3</td>\n",
       "      <td>15427</td>\n",
       "    </tr>\n",
       "    <tr>\n",
       "      <th>3</th>\n",
       "      <td>Ferris Brown</td>\n",
       "      <td>Dan Brodi</td>\n",
       "      <td>1</td>\n",
       "      <td>19745</td>\n",
       "    </tr>\n",
       "    <tr>\n",
       "      <th>4</th>\n",
       "      <td>Noel Meyer</td>\n",
       "      <td>Kari Phelps</td>\n",
       "      <td>1</td>\n",
       "      <td>19745</td>\n",
       "    </tr>\n",
       "    <tr>\n",
       "      <th>5</th>\n",
       "      <td>Abel Kim</td>\n",
       "      <td>Rich Hernandez</td>\n",
       "      <td>3</td>\n",
       "      <td>12369</td>\n",
       "    </tr>\n",
       "    <tr>\n",
       "      <th>6</th>\n",
       "      <td>Raphael Hull</td>\n",
       "      <td>Kari Phelps</td>\n",
       "      <td>1</td>\n",
       "      <td>8227</td>\n",
       "    </tr>\n",
       "    <tr>\n",
       "      <th>7</th>\n",
       "      <td>Jack Salazar</td>\n",
       "      <td>Kari Phelps</td>\n",
       "      <td>1</td>\n",
       "      <td>9710</td>\n",
       "    </tr>\n",
       "    <tr>\n",
       "      <th>8</th>\n",
       "      <td>May Stout</td>\n",
       "      <td>Rich Hernandez</td>\n",
       "      <td>3</td>\n",
       "      <td>9308</td>\n",
       "    </tr>\n",
       "    <tr>\n",
       "      <th>9</th>\n",
       "      <td>Haviva Montoya</td>\n",
       "      <td>Mike Palomino</td>\n",
       "      <td>2</td>\n",
       "      <td>9308</td>\n",
       "    </tr>\n",
       "  </tbody>\n",
       "</table>\n",
       "</div>"
      ],
      "text/plain": [
       "         emp_name         emp_mgr  dealer_id  sales\n",
       "0    Beverly Lang   Mike Palomino          2  16233\n",
       "1   Kameko French   Mike Palomino          2  16233\n",
       "2     Ursa George  Rich Hernandez          3  15427\n",
       "3    Ferris Brown       Dan Brodi          1  19745\n",
       "4      Noel Meyer     Kari Phelps          1  19745\n",
       "5        Abel Kim  Rich Hernandez          3  12369\n",
       "6    Raphael Hull     Kari Phelps          1   8227\n",
       "7    Jack Salazar     Kari Phelps          1   9710\n",
       "8       May Stout  Rich Hernandez          3   9308\n",
       "9  Haviva Montoya   Mike Palomino          2   9308"
      ]
     },
     "execution_count": 13,
     "metadata": {},
     "output_type": "execute_result"
    }
   ],
   "source": [
    "df = pd.DataFrame(dados)\n",
    "df"
   ]
  },
  {
   "attachments": {},
   "cell_type": "markdown",
   "metadata": {},
   "source": [
    "### SqlLite3"
   ]
  },
  {
   "cell_type": "code",
   "execution_count": 3,
   "metadata": {},
   "outputs": [],
   "source": [
    "import sqlite3"
   ]
  },
  {
   "cell_type": "code",
   "execution_count": 4,
   "metadata": {},
   "outputs": [],
   "source": [
    "conn = sqlite3.connect('db/function.db')"
   ]
  },
  {
   "attachments": {},
   "cell_type": "markdown",
   "metadata": {},
   "source": [
    "#### Dataframe para banco de dados MySql"
   ]
  },
  {
   "cell_type": "code",
   "execution_count": 40,
   "metadata": {},
   "outputs": [
    {
     "ename": "ValueError",
     "evalue": "Table 'TbWindow' already exists.",
     "output_type": "error",
     "traceback": [
      "\u001b[0;31m---------------------------------------------------------------------------\u001b[0m",
      "\u001b[0;31mValueError\u001b[0m                                Traceback (most recent call last)",
      "\u001b[1;32m/home/fovr/Python/Python_basic/Window_Function/window_function.ipynb Cell 9\u001b[0m in \u001b[0;36m3\n\u001b[1;32m      <a href='vscode-notebook-cell://wsl%2Bubuntu-20.04/home/fovr/Python/Python_basic/Window_Function/window_function.ipynb#X11sdnNjb2RlLXJlbW90ZQ%3D%3D?line=0'>1</a>\u001b[0m \u001b[39m# Criando tabela TbWindow lendo do dataframe\u001b[39;00m\n\u001b[1;32m      <a href='vscode-notebook-cell://wsl%2Bubuntu-20.04/home/fovr/Python/Python_basic/Window_Function/window_function.ipynb#X11sdnNjb2RlLXJlbW90ZQ%3D%3D?line=1'>2</a>\u001b[0m nomeTabela \u001b[39m=\u001b[39m \u001b[39m'\u001b[39m\u001b[39mTbWindow\u001b[39m\u001b[39m'\u001b[39m\n\u001b[0;32m----> <a href='vscode-notebook-cell://wsl%2Bubuntu-20.04/home/fovr/Python/Python_basic/Window_Function/window_function.ipynb#X11sdnNjb2RlLXJlbW90ZQ%3D%3D?line=2'>3</a>\u001b[0m resultado \u001b[39m=\u001b[39m df\u001b[39m.\u001b[39;49mto_sql(nomeTabela,conn, if_exists\u001b[39m=\u001b[39;49m\u001b[39m'\u001b[39;49m\u001b[39mfail\u001b[39;49m\u001b[39m'\u001b[39;49m)\n",
      "File \u001b[0;32m/usr/local/lib/python3.10/site-packages/pandas/core/generic.py:2987\u001b[0m, in \u001b[0;36mNDFrame.to_sql\u001b[0;34m(self, name, con, schema, if_exists, index, index_label, chunksize, dtype, method)\u001b[0m\n\u001b[1;32m   2830\u001b[0m \u001b[39m\"\"\"\u001b[39;00m\n\u001b[1;32m   2831\u001b[0m \u001b[39mWrite records stored in a DataFrame to a SQL database.\u001b[39;00m\n\u001b[1;32m   2832\u001b[0m \n\u001b[0;32m   (...)\u001b[0m\n\u001b[1;32m   2983\u001b[0m \u001b[39m[(1,), (None,), (2,)]\u001b[39;00m\n\u001b[1;32m   2984\u001b[0m \u001b[39m\"\"\"\u001b[39;00m  \u001b[39m# noqa:E501\u001b[39;00m\n\u001b[1;32m   2985\u001b[0m \u001b[39mfrom\u001b[39;00m \u001b[39mpandas\u001b[39;00m\u001b[39m.\u001b[39;00m\u001b[39mio\u001b[39;00m \u001b[39mimport\u001b[39;00m sql\n\u001b[0;32m-> 2987\u001b[0m \u001b[39mreturn\u001b[39;00m sql\u001b[39m.\u001b[39;49mto_sql(\n\u001b[1;32m   2988\u001b[0m     \u001b[39mself\u001b[39;49m,\n\u001b[1;32m   2989\u001b[0m     name,\n\u001b[1;32m   2990\u001b[0m     con,\n\u001b[1;32m   2991\u001b[0m     schema\u001b[39m=\u001b[39;49mschema,\n\u001b[1;32m   2992\u001b[0m     if_exists\u001b[39m=\u001b[39;49mif_exists,\n\u001b[1;32m   2993\u001b[0m     index\u001b[39m=\u001b[39;49mindex,\n\u001b[1;32m   2994\u001b[0m     index_label\u001b[39m=\u001b[39;49mindex_label,\n\u001b[1;32m   2995\u001b[0m     chunksize\u001b[39m=\u001b[39;49mchunksize,\n\u001b[1;32m   2996\u001b[0m     dtype\u001b[39m=\u001b[39;49mdtype,\n\u001b[1;32m   2997\u001b[0m     method\u001b[39m=\u001b[39;49mmethod,\n\u001b[1;32m   2998\u001b[0m )\n",
      "File \u001b[0;32m/usr/local/lib/python3.10/site-packages/pandas/io/sql.py:695\u001b[0m, in \u001b[0;36mto_sql\u001b[0;34m(frame, name, con, schema, if_exists, index, index_label, chunksize, dtype, method, engine, **engine_kwargs)\u001b[0m\n\u001b[1;32m    690\u001b[0m \u001b[39melif\u001b[39;00m \u001b[39mnot\u001b[39;00m \u001b[39misinstance\u001b[39m(frame, DataFrame):\n\u001b[1;32m    691\u001b[0m     \u001b[39mraise\u001b[39;00m \u001b[39mNotImplementedError\u001b[39;00m(\n\u001b[1;32m    692\u001b[0m         \u001b[39m\"\u001b[39m\u001b[39m'\u001b[39m\u001b[39mframe\u001b[39m\u001b[39m'\u001b[39m\u001b[39m argument should be either a Series or a DataFrame\u001b[39m\u001b[39m\"\u001b[39m\n\u001b[1;32m    693\u001b[0m     )\n\u001b[0;32m--> 695\u001b[0m \u001b[39mreturn\u001b[39;00m pandas_sql\u001b[39m.\u001b[39;49mto_sql(\n\u001b[1;32m    696\u001b[0m     frame,\n\u001b[1;32m    697\u001b[0m     name,\n\u001b[1;32m    698\u001b[0m     if_exists\u001b[39m=\u001b[39;49mif_exists,\n\u001b[1;32m    699\u001b[0m     index\u001b[39m=\u001b[39;49mindex,\n\u001b[1;32m    700\u001b[0m     index_label\u001b[39m=\u001b[39;49mindex_label,\n\u001b[1;32m    701\u001b[0m     schema\u001b[39m=\u001b[39;49mschema,\n\u001b[1;32m    702\u001b[0m     chunksize\u001b[39m=\u001b[39;49mchunksize,\n\u001b[1;32m    703\u001b[0m     dtype\u001b[39m=\u001b[39;49mdtype,\n\u001b[1;32m    704\u001b[0m     method\u001b[39m=\u001b[39;49mmethod,\n\u001b[1;32m    705\u001b[0m     engine\u001b[39m=\u001b[39;49mengine,\n\u001b[1;32m    706\u001b[0m     \u001b[39m*\u001b[39;49m\u001b[39m*\u001b[39;49mengine_kwargs,\n\u001b[1;32m    707\u001b[0m )\n",
      "File \u001b[0;32m/usr/local/lib/python3.10/site-packages/pandas/io/sql.py:2187\u001b[0m, in \u001b[0;36mSQLiteDatabase.to_sql\u001b[0;34m(self, frame, name, if_exists, index, index_label, schema, chunksize, dtype, method, **kwargs)\u001b[0m\n\u001b[1;32m   2176\u001b[0m             \u001b[39mraise\u001b[39;00m \u001b[39mValueError\u001b[39;00m(\u001b[39mf\u001b[39m\u001b[39m\"\u001b[39m\u001b[39m{\u001b[39;00mcol\u001b[39m}\u001b[39;00m\u001b[39m (\u001b[39m\u001b[39m{\u001b[39;00mmy_type\u001b[39m}\u001b[39;00m\u001b[39m) not a string\u001b[39m\u001b[39m\"\u001b[39m)\n\u001b[1;32m   2178\u001b[0m table \u001b[39m=\u001b[39m SQLiteTable(\n\u001b[1;32m   2179\u001b[0m     name,\n\u001b[1;32m   2180\u001b[0m     \u001b[39mself\u001b[39m,\n\u001b[0;32m   (...)\u001b[0m\n\u001b[1;32m   2185\u001b[0m     dtype\u001b[39m=\u001b[39mdtype,\n\u001b[1;32m   2186\u001b[0m )\n\u001b[0;32m-> 2187\u001b[0m table\u001b[39m.\u001b[39;49mcreate()\n\u001b[1;32m   2188\u001b[0m \u001b[39mreturn\u001b[39;00m table\u001b[39m.\u001b[39minsert(chunksize, method)\n",
      "File \u001b[0;32m/usr/local/lib/python3.10/site-packages/pandas/io/sql.py:829\u001b[0m, in \u001b[0;36mSQLTable.create\u001b[0;34m(self)\u001b[0m\n\u001b[1;32m    827\u001b[0m \u001b[39mif\u001b[39;00m \u001b[39mself\u001b[39m\u001b[39m.\u001b[39mexists():\n\u001b[1;32m    828\u001b[0m     \u001b[39mif\u001b[39;00m \u001b[39mself\u001b[39m\u001b[39m.\u001b[39mif_exists \u001b[39m==\u001b[39m \u001b[39m\"\u001b[39m\u001b[39mfail\u001b[39m\u001b[39m\"\u001b[39m:\n\u001b[0;32m--> 829\u001b[0m         \u001b[39mraise\u001b[39;00m \u001b[39mValueError\u001b[39;00m(\u001b[39mf\u001b[39m\u001b[39m\"\u001b[39m\u001b[39mTable \u001b[39m\u001b[39m'\u001b[39m\u001b[39m{\u001b[39;00m\u001b[39mself\u001b[39m\u001b[39m.\u001b[39mname\u001b[39m}\u001b[39;00m\u001b[39m'\u001b[39m\u001b[39m already exists.\u001b[39m\u001b[39m\"\u001b[39m)\n\u001b[1;32m    830\u001b[0m     \u001b[39melif\u001b[39;00m \u001b[39mself\u001b[39m\u001b[39m.\u001b[39mif_exists \u001b[39m==\u001b[39m \u001b[39m\"\u001b[39m\u001b[39mreplace\u001b[39m\u001b[39m\"\u001b[39m:\n\u001b[1;32m    831\u001b[0m         \u001b[39mself\u001b[39m\u001b[39m.\u001b[39mpd_sql\u001b[39m.\u001b[39mdrop_table(\u001b[39mself\u001b[39m\u001b[39m.\u001b[39mname, \u001b[39mself\u001b[39m\u001b[39m.\u001b[39mschema)\n",
      "\u001b[0;31mValueError\u001b[0m: Table 'TbWindow' already exists."
     ]
    }
   ],
   "source": [
    "# Criando tabela TbWindow lendo do dataframe\n",
    "nomeTabela = 'TbWindow'\n",
    "resultado = df.to_sql(nomeTabela,conn, if_exists='fail', index=False)"
   ]
  },
  {
   "cell_type": "code",
   "execution_count": 58,
   "metadata": {},
   "outputs": [
    {
     "data": {
      "text/plain": [
       "[(0, 'Beverly Lang', 'Mike Palomino', 2, 16233),\n",
       " (1, 'Kameko French', 'Mike Palomino', 2, 16233),\n",
       " (2, 'Ursa George', 'Rich Hernandez', 3, 15427),\n",
       " (3, 'Ferris Brown', 'Dan Brodi', 1, 19745),\n",
       " (4, 'Noel Meyer', 'Kari Phelps', 1, 19745),\n",
       " (5, 'Abel Kim', 'Rich Hernandez', 3, 12369),\n",
       " (6, 'Raphael Hull', 'Kari Phelps', 1, 8227),\n",
       " (7, 'Jack Salazar', 'Kari Phelps', 1, 9710),\n",
       " (8, 'May Stout', 'Rich Hernandez', 3, 9308),\n",
       " (9, 'Haviva Montoya', 'Mike Palomino', 2, 9308)]"
      ]
     },
     "execution_count": 58,
     "metadata": {},
     "output_type": "execute_result"
    }
   ],
   "source": [
    "# Lendo do banco de dados\n",
    "query = 'SELECT * FROM TbWindow'\n",
    "lendo = conn.execute(query)\n",
    "lendo.fetchall()"
   ]
  },
  {
   "cell_type": "code",
   "execution_count": 9,
   "metadata": {},
   "outputs": [
    {
     "data": {
      "text/html": [
       "<div>\n",
       "<style scoped>\n",
       "    .dataframe tbody tr th:only-of-type {\n",
       "        vertical-align: middle;\n",
       "    }\n",
       "\n",
       "    .dataframe tbody tr th {\n",
       "        vertical-align: top;\n",
       "    }\n",
       "\n",
       "    .dataframe thead th {\n",
       "        text-align: right;\n",
       "    }\n",
       "</style>\n",
       "<table border=\"1\" class=\"dataframe\">\n",
       "  <thead>\n",
       "    <tr style=\"text-align: right;\">\n",
       "      <th></th>\n",
       "      <th>index</th>\n",
       "      <th>emp_name</th>\n",
       "      <th>emp_mgr</th>\n",
       "      <th>dealer_id</th>\n",
       "      <th>sales</th>\n",
       "    </tr>\n",
       "  </thead>\n",
       "  <tbody>\n",
       "    <tr>\n",
       "      <th>0</th>\n",
       "      <td>0</td>\n",
       "      <td>Beverly Lang</td>\n",
       "      <td>Mike Palomino</td>\n",
       "      <td>2</td>\n",
       "      <td>16233</td>\n",
       "    </tr>\n",
       "    <tr>\n",
       "      <th>1</th>\n",
       "      <td>1</td>\n",
       "      <td>Kameko French</td>\n",
       "      <td>Mike Palomino</td>\n",
       "      <td>2</td>\n",
       "      <td>16233</td>\n",
       "    </tr>\n",
       "    <tr>\n",
       "      <th>2</th>\n",
       "      <td>2</td>\n",
       "      <td>Ursa George</td>\n",
       "      <td>Rich Hernandez</td>\n",
       "      <td>3</td>\n",
       "      <td>15427</td>\n",
       "    </tr>\n",
       "    <tr>\n",
       "      <th>3</th>\n",
       "      <td>3</td>\n",
       "      <td>Ferris Brown</td>\n",
       "      <td>Dan Brodi</td>\n",
       "      <td>1</td>\n",
       "      <td>19745</td>\n",
       "    </tr>\n",
       "    <tr>\n",
       "      <th>4</th>\n",
       "      <td>4</td>\n",
       "      <td>Noel Meyer</td>\n",
       "      <td>Kari Phelps</td>\n",
       "      <td>1</td>\n",
       "      <td>19745</td>\n",
       "    </tr>\n",
       "    <tr>\n",
       "      <th>5</th>\n",
       "      <td>5</td>\n",
       "      <td>Abel Kim</td>\n",
       "      <td>Rich Hernandez</td>\n",
       "      <td>3</td>\n",
       "      <td>12369</td>\n",
       "    </tr>\n",
       "    <tr>\n",
       "      <th>6</th>\n",
       "      <td>6</td>\n",
       "      <td>Raphael Hull</td>\n",
       "      <td>Kari Phelps</td>\n",
       "      <td>1</td>\n",
       "      <td>8227</td>\n",
       "    </tr>\n",
       "    <tr>\n",
       "      <th>7</th>\n",
       "      <td>7</td>\n",
       "      <td>Jack Salazar</td>\n",
       "      <td>Kari Phelps</td>\n",
       "      <td>1</td>\n",
       "      <td>9710</td>\n",
       "    </tr>\n",
       "    <tr>\n",
       "      <th>8</th>\n",
       "      <td>8</td>\n",
       "      <td>May Stout</td>\n",
       "      <td>Rich Hernandez</td>\n",
       "      <td>3</td>\n",
       "      <td>9308</td>\n",
       "    </tr>\n",
       "    <tr>\n",
       "      <th>9</th>\n",
       "      <td>9</td>\n",
       "      <td>Haviva Montoya</td>\n",
       "      <td>Mike Palomino</td>\n",
       "      <td>2</td>\n",
       "      <td>9308</td>\n",
       "    </tr>\n",
       "  </tbody>\n",
       "</table>\n",
       "</div>"
      ],
      "text/plain": [
       "   index        emp_name         emp_mgr  dealer_id  sales\n",
       "0      0    Beverly Lang   Mike Palomino          2  16233\n",
       "1      1   Kameko French   Mike Palomino          2  16233\n",
       "2      2     Ursa George  Rich Hernandez          3  15427\n",
       "3      3    Ferris Brown       Dan Brodi          1  19745\n",
       "4      4      Noel Meyer     Kari Phelps          1  19745\n",
       "5      5        Abel Kim  Rich Hernandez          3  12369\n",
       "6      6    Raphael Hull     Kari Phelps          1   8227\n",
       "7      7    Jack Salazar     Kari Phelps          1   9710\n",
       "8      8       May Stout  Rich Hernandez          3   9308\n",
       "9      9  Haviva Montoya   Mike Palomino          2   9308"
      ]
     },
     "execution_count": 9,
     "metadata": {},
     "output_type": "execute_result"
    }
   ],
   "source": [
    "# Lendo do banco de dados como dataframe\n",
    "query = 'SELECT * FROM TbWindow'\n",
    "dfselect = pd.read_sql(query, conn)\n",
    "dfselect"
   ]
  }
 ],
 "metadata": {
  "kernelspec": {
   "display_name": "Python 3",
   "language": "python",
   "name": "python3"
  },
  "language_info": {
   "codemirror_mode": {
    "name": "ipython",
    "version": 3
   },
   "file_extension": ".py",
   "mimetype": "text/x-python",
   "name": "python",
   "nbconvert_exporter": "python",
   "pygments_lexer": "ipython3",
   "version": "3.10.0"
  },
  "orig_nbformat": 4
 },
 "nbformat": 4,
 "nbformat_minor": 2
}
